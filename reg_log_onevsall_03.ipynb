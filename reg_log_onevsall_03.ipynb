{
  "cells": [
    {
      "cell_type": "markdown",
      "metadata": {
        "id": "view-in-github",
        "colab_type": "text"
      },
      "source": [
        "<a href=\"https://colab.research.google.com/github/MAZanabria/InteligenciaArtificialZVMA/blob/pacman/reg_log_onevsall_03.ipynb\" target=\"_parent\"><img src=\"https://colab.research.google.com/assets/colab-badge.svg\" alt=\"Open In Colab\"/></a>"
      ]
    },
    {
      "cell_type": "markdown",
      "metadata": {
        "id": "xTjmiqnfSxgG"
      },
      "source": [
        "# Clasificación multiclase\n",
        "\n",
        "dataset de clasificacion de generos musicales\n",
        "\n",
        "Contenido\n",
        "Conjunto de datos de entrenamiento: 17.996 filas con 15 columnas\n",
        "\n",
        "Detalles de la columna: nombre del artista; nombre de la pista; popularidad; 'bailabilidad'; energía; llave; volumen; modo; 'habla'; 'acústica'; 'instrumentalidad'; vivacidad; valencia; tempo; duración en milisegundos y firma_hora.\n",
        "\n",
        "Variable objetivo: 'Clase' como Rock, Indie, Alt, Pop, Metal, HipHop, Alt_Music, Blues, Acústica/Folk, Instrumental, Country, Bollywood,\n",
        "\n",
        "Conjunto de datos de prueba: 7713 filas con 14 columnas"
      ]
    },
    {
      "cell_type": "code",
      "source": [
        "from google.colab import drive\n",
        "drive.mount('/content/drive')"
      ],
      "metadata": {
        "colab": {
          "base_uri": "https://localhost:8080/"
        },
        "id": "clyp4NcQycWP",
        "outputId": "14987a9e-b177-4d1b-b8b6-a49dcfb18beb"
      },
      "execution_count": 2,
      "outputs": [
        {
          "output_type": "stream",
          "name": "stdout",
          "text": [
            "Mounted at /content/drive\n"
          ]
        }
      ]
    },
    {
      "cell_type": "code",
      "execution_count": 3,
      "metadata": {
        "id": "20Q29kX8SxgJ"
      },
      "outputs": [],
      "source": [
        "# utilizado para la manipulación de directorios y rutas\n",
        "import os\n",
        "\n",
        "# Cálculo científico y vectorial para python\n",
        "import numpy as np\n",
        "\n",
        "# Libreria para graficos\n",
        "from matplotlib import pyplot\n",
        "\n",
        "# Modulo de optimizacion en scipy\n",
        "from scipy import optimize\n",
        "\n",
        "# le dice a matplotlib que incruste gráficos en el cuaderno\n",
        "%matplotlib inline"
      ]
    },
    {
      "cell_type": "markdown",
      "metadata": {
        "id": "rPiGCmq7SxgK"
      },
      "source": [
        "## 1 Clasificación multiclase\n",
        "\n",
        "La primera parte del ejercicio, extenderá la implementación anterior de la regresión logística y la aplicará a la clasificación de uno contra todos (one vs all).\n",
        "\n",
        "Se inicia el ejercicio cargando primero el conjunto de datos."
      ]
    },
    {
      "cell_type": "code",
      "source": [
        "import pandas as pd\n",
        "# La entrada es de 14 elemento contando con x0\n",
        "input_layer_size  = 14\n",
        "\n",
        "# 10 etiquetas, de 1 a 10 (tomar en cuenta que se asigna \"0\" a la etiqueta 10)\n",
        "num_labels = 10\n",
        "\n",
        "# Cargar los datos de entrenamiento y prueba\n",
        "data_train = pd.read_excel('/content/drive/MyDrive/sis 420/Laboratorio 3/prueba.xlsx')\n",
        "data_test = pd.read_excel('/content/drive/MyDrive/sis 420/Laboratorio 3/test11.xlsx')\n",
        "\n",
        "X_train = data_train.drop(columns=[data_train.columns[14]])  # Excluir la columna 14 como características\n",
        "y_train = data_train.iloc[:, 14]   # Seleccionar la columna 14 como variable objetivo\n",
        "\n",
        "X_test = num_labels\n",
        "\n",
        "m_train = y_train.size  # Obtener el tamaño del conjunto de entrenamiento\n",
        "\n",
        "print(X_train.head())  # Imprimir las primeras filas de las características\n",
        "print(y_train)  # Imprimir la variable objetivo\n",
        "\n"
      ],
      "metadata": {
        "colab": {
          "base_uri": "https://localhost:8080/"
        },
        "id": "hQabeEyHUs5L",
        "outputId": "33a71733-3ad7-427b-ce7c-9a049782e5eb"
      },
      "execution_count": 40,
      "outputs": [
        {
          "output_type": "stream",
          "name": "stdout",
          "text": [
            "   60.0  0.854  0.564   1.0     -4964    1  0.0485    0.0171         0  \\\n",
            "0  54.0  0.382  0.814   3.0    -7.230  1.0  0.0406  0.001100  0.004010   \n",
            "1  35.0  0.434  0.614   6.0 -8334.000  1.0  0.0525  0.486000  0.000196   \n",
            "2  66.0  0.853  0.597  10.0 -6528.000  0.0  0.0555  0.021200  0.000000   \n",
            "3  53.0  0.167  0.975   2.0 -4279.000  1.0  0.2160  0.000169  0.016100   \n",
            "4  53.0  0.235  0.977   6.0     0.878  1.0  0.1070  0.003530  0.006040   \n",
            "\n",
            "   0.0849   0.899     134071  234596.0    4  \n",
            "0   0.101  0.5690  116454.00  251733.0  4.0  \n",
            "1   0.394  0.7870  147681.00  109667.0  4.0  \n",
            "2   0.122  0.5690  107033.00  173968.0  4.0  \n",
            "3   0.172  0.0918     199.06  229960.0  4.0  \n",
            "4   0.172  0.2410  152952.00  208133.0  4.0  \n",
            "0        10.0\n",
            "1         6.0\n",
            "2         5.0\n",
            "3        10.0\n",
            "4         6.0\n",
            "         ... \n",
            "17987     6.0\n",
            "17988     2.0\n",
            "17989     8.0\n",
            "17990     8.0\n",
            "17991    10.0\n",
            "Name: 5, Length: 17992, dtype: float64\n"
          ]
        }
      ]
    },
    {
      "cell_type": "code",
      "source": [
        "print(data.head())  # Muestra las primeras filas del DataFrame cargado\n"
      ],
      "metadata": {
        "colab": {
          "base_uri": "https://localhost:8080/"
        },
        "id": "7xOTH31yMMEL",
        "outputId": "a52e5555-d6b8-4243-8e62-94a463e301d6"
      },
      "execution_count": 41,
      "outputs": [
        {
          "output_type": "stream",
          "name": "stdout",
          "text": [
            "   60.0  0.854  0.564   1.0     -4964    1  0.0485    0.0171         0  \\\n",
            "0  54.0  0.382  0.814   3.0    -7.230  1.0  0.0406  0.001100  0.004010   \n",
            "1  35.0  0.434  0.614   6.0 -8334.000  1.0  0.0525  0.486000  0.000196   \n",
            "2  66.0  0.853  0.597  10.0 -6528.000  0.0  0.0555  0.021200  0.000000   \n",
            "3  53.0  0.167  0.975   2.0 -4279.000  1.0  0.2160  0.000169  0.016100   \n",
            "4  53.0  0.235  0.977   6.0     0.878  1.0  0.1070  0.003530  0.006040   \n",
            "\n",
            "   0.0849   0.899     134071  234596.0    4    5  \n",
            "0   0.101  0.5690  116454.00  251733.0  4.0  0.0  \n",
            "1   0.394  0.7870  147681.00  109667.0  4.0  6.0  \n",
            "2   0.122  0.5690  107033.00  173968.0  4.0  5.0  \n",
            "3   0.172  0.0918     199.06  229960.0  4.0  0.0  \n",
            "4   0.172  0.2410  152952.00  208133.0  4.0  6.0  \n"
          ]
        }
      ]
    },
    {
      "cell_type": "markdown",
      "source": [
        "Normalizamos los datos"
      ],
      "metadata": {
        "id": "lX56HC8GTFTM"
      }
    },
    {
      "cell_type": "code",
      "source": [
        "import numpy as np\n",
        "\n",
        "def featureNormalize(X):\n",
        "    X_norm = X.copy()\n",
        "    mu = np.zeros(X.shape[1])\n",
        "    sigma = np.zeros(X.shape[1])\n",
        "\n",
        "    mu = np.mean(X, axis=0)\n",
        "    sigma = np.std(X, axis=0)\n",
        "    X_norm = (X - mu) / sigma\n",
        "\n",
        "    return X_norm, mu, sigma\n",
        "\n",
        "# Llama a featureNormalize con los datos cargados\n",
        "X_norm, mu, sigma = featureNormalize(X_train)\n",
        "\n",
        "# Imprime las características normalizadas, las medias y las desviaciones estándar\n",
        "print(\"Características normalizadas:\")\n",
        "print(X_norm)\n",
        "print(\"\\nMedias:\")\n",
        "print(mu)\n",
        "print(\"\\nDesviaciones estándar:\")\n",
        "print(sigma)\n"
      ],
      "metadata": {
        "colab": {
          "base_uri": "https://localhost:8080/"
        },
        "id": "m__0UFCQlLMV",
        "outputId": "f0206827-2333-45f0-b65b-dea092e421a4"
      },
      "execution_count": 42,
      "outputs": [
        {
          "output_type": "stream",
          "name": "stdout",
          "text": [
            "Características normalizadas:\n",
            "           60.0     0.854     0.564       1.0     -4964         1    0.0485  \\\n",
            "0      0.546711 -0.320296  0.642228 -0.013805  1.568385  0.016235 -0.464428   \n",
            "1     -0.537008 -0.220311 -0.207571  0.008297 -0.273176  0.016235 -0.323935   \n",
            "2      1.231166  0.585337 -0.279804  0.037767  0.126241  0.007025 -0.288517   \n",
            "3      0.489673 -0.733695  1.326317 -0.021173  0.623633  0.016235  1.606367   \n",
            "4      0.489673 -0.602946  1.334815  0.008297  1.570178  0.016235  0.319499   \n",
            "...         ...       ...       ...       ...       ...       ...       ...   \n",
            "17987 -0.537008 -0.735618 -2.353315  0.015664  1.566202  0.007025 -0.456164   \n",
            "17988 -0.993312  0.171938 -1.868930  0.045134 -0.680114  0.007025 -0.555335   \n",
            "17989 -0.594046  0.018115  1.351811 -0.006438  0.534284  0.007025 -0.103160   \n",
            "17990 -0.879236 -0.641401  0.603987  0.008297 -1.251374  0.007025  0.638264   \n",
            "17991 -0.080705 -0.285686  0.807939 -0.006438  1.568807  0.007025 -0.246015   \n",
            "\n",
            "         0.0171         0    0.0849     0.899    134071  234596.0         4  \n",
            "0     -0.791695 -0.569049 -0.597948  0.147446 -0.007304 -0.278141 -0.010459  \n",
            "1      0.769516 -0.581612  1.247342  0.553027 -0.006526 -0.278266 -0.010459  \n",
            "2     -0.726980 -0.582258 -0.465692  0.147446 -0.007538 -0.278210 -0.010459  \n",
            "3     -0.794693 -0.529224 -0.150796 -0.740366 -0.010198 -0.278161 -0.010459  \n",
            "4     -0.783871 -0.562362 -0.150796 -0.462785 -0.006395 -0.278180 -0.010459  \n",
            "...         ...       ...       ...       ...       ...       ...       ...  \n",
            "17987  2.401880  2.132007 -0.614322 -0.581855 -0.005931 -0.278193 -0.010459  \n",
            "17988  1.967227 -0.582205 -0.790034 -0.287902 -0.008385 -0.278137 -0.010459  \n",
            "17989 -0.795141 -0.581810  2.960375 -0.423716 -0.010200 -0.278173 -0.010459  \n",
            "17990 -0.791083  2.435056  0.378229 -0.250693 -0.006933 -0.278170 -0.010459  \n",
            "17991 -0.775790  0.116073  0.869467 -0.209763 -0.006765 -0.278202 -0.010459  \n",
            "\n",
            "[17992 rows x 14 columns]\n",
            "\n",
            "Medias:\n",
            "60.0        4.441494e+01\n",
            "0.854       5.485790e-01\n",
            "0.564       6.628518e-01\n",
            "1.0         4.873840e+00\n",
            "-4964      -7.098810e+03\n",
            "1          -7.628032e-01\n",
            "0.0485      7.993787e-02\n",
            "0.0171      2.469944e-01\n",
            "0           1.767625e-01\n",
            "0.0849      1.959437e-01\n",
            "0.899       4.897475e-01\n",
            "134071      4.098413e+05\n",
            "234596.0    3.172524e+08\n",
            "4           4.044215e+05\n",
            "dtype: float64\n",
            "\n",
            "Desviaciones estándar:\n",
            "60.0        1.753221e+01\n",
            "0.854       5.200784e-01\n",
            "0.564       2.353496e-01\n",
            "1.0         1.357316e+02\n",
            "-4964       4.521583e+03\n",
            "1           1.085808e+02\n",
            "0.0485      8.470179e-02\n",
            "0.0171      3.105923e-01\n",
            "0           3.035813e-01\n",
            "0.0849      1.587827e-01\n",
            "0.899       5.375007e-01\n",
            "134071      4.016914e+07\n",
            "234596.0    1.139710e+09\n",
            "4           3.866690e+07\n",
            "dtype: float64\n"
          ]
        }
      ]
    },
    {
      "cell_type": "code",
      "source": [
        "import numpy as np\n",
        "\n",
        "# Configurar la matriz adecuadamente, y agregar una columna de unos que corresponde al término de intercepción.\n",
        "m, n = X_norm.shape\n",
        "# Agregar el término de intercepción a X\n",
        "X = np.concatenate([np.ones((m, 1)), X_norm], axis=1)\n"
      ],
      "metadata": {
        "id": "r9e6MRrW1G22"
      },
      "execution_count": 43,
      "outputs": []
    },
    {
      "cell_type": "markdown",
      "metadata": {
        "id": "GxjagbCdSxgL"
      },
      "source": [
        "### 1.2 Visualización de los datos\n"
      ]
    },
    {
      "cell_type": "code",
      "execution_count": 44,
      "metadata": {
        "id": "V2C82bqdSxgL"
      },
      "outputs": [],
      "source": [
        "# def displayData(X, example_width=None, figsize=(10, 10)):\n",
        "#     \"\"\"\n",
        "#     Muestra datos 2D almacenados en X en una cuadrícula apropiada.\n",
        "#     \"\"\"\n",
        "#     # Calcula filas, columnas\n",
        "#     if X.ndim == 2:\n",
        "#         m, n = X.shape\n",
        "#     elif X.ndim == 1:\n",
        "#         n = X.size\n",
        "#         m = 1\n",
        "#         X = X[None]  # Promocionar a una matriz bidimensional\n",
        "#     else:\n",
        "#         raise IndexError('La entrada X debe ser 1 o 2 dimensinal.')\n",
        "\n",
        "#     example_width = example_width or int(np.round(np.sqrt(n)))\n",
        "#     example_height = n / example_width\n",
        "\n",
        "#     # Calcula el numero de elementos a mostrar\n",
        "#     display_rows = int(np.floor(np.sqrt(m)))\n",
        "#     display_cols = int(np.ceil(m / display_rows))\n",
        "\n",
        "#     fig, ax_array = pyplot.subplots(display_rows, display_cols, figsize=figsize)\n",
        "#     fig.subplots_adjust(wspace=0.025, hspace=0.025)\n",
        "\n",
        "#     ax_array = [ax_array] if m == 1 else ax_array.ravel()\n",
        "\n",
        "#     for i, ax in enumerate(ax_array):\n",
        "#         ax.imshow(X[i].reshape(example_width, example_width, order='F'),\n",
        "#                   cmap='Greys', extent=[0, 1, 0, 1])\n",
        "#         ax.axis('off')"
      ]
    },
    {
      "cell_type": "code",
      "execution_count": 45,
      "metadata": {
        "id": "B5marXeKSxgM"
      },
      "outputs": [],
      "source": [
        "# Selecciona aleatoriamente 100 puntos de datos para mostrar\n",
        "rand_indices = np.random.choice(m, 100, replace=False)\n",
        "sel = X[rand_indices, :]\n",
        "\n",
        "# displayData(sel)"
      ]
    },
    {
      "cell_type": "code",
      "source": [
        "#mi codigo con mis datos\n",
        "import numpy as np\n",
        "\n",
        "# Configurar la matriz adecuadamente, y agregar una columna de unos que corresponde al término de intercepción.\n",
        "m, n = X_norm.shape\n",
        "# Agregar el término de intercepción a X\n",
        "X = np.concatenate([np.ones((m, 1)), X_norm], axis=1)\n"
      ],
      "metadata": {
        "id": "tAN73QVPuRE2"
      },
      "execution_count": 46,
      "outputs": []
    },
    {
      "cell_type": "markdown",
      "metadata": {
        "collapsed": true,
        "id": "M2h-xWvTSxgM"
      },
      "source": [
        "### 1.3 Vectorización de regresión logística\n",
        "\n",
        "Se utilizará múltiples modelos de regresión logística uno contra todos para construir un clasificador de clases múltiples. Dado que hay 10 clases, deberá entrenar 10 clasificadores de regresión logística separados."
      ]
    },
    {
      "cell_type": "markdown",
      "metadata": {
        "id": "BQ-PeDkKSxgN"
      },
      "source": [
        "<a id=\"section1\"></a>\n",
        "#### 1.3.1 Vectorización de la funcion de costo\n",
        "\n",
        "\n",
        "#### 1.3.2 Vectorización del gradiente\n",
        "\n"
      ]
    },
    {
      "cell_type": "code",
      "execution_count": 48,
      "metadata": {
        "id": "0sB9Kyi8SxgN"
      },
      "outputs": [],
      "source": [
        "def sigmoid(z):\n",
        "    \"\"\"\n",
        "    Calcula la sigmoide de z.\n",
        "    \"\"\"\n",
        "    return 1.0 / (1.0 + np.exp(-z))"
      ]
    },
    {
      "cell_type": "code",
      "source": [
        "\n",
        "import numpy as np\n",
        "\n",
        "def lrCostFunction(theta, X, y, lambda_):\n",
        "    \"\"\"\n",
        "    Calcula el costo de usar theta como parámetro para la regresión logística regularizada y\n",
        "    el gradiente del costo w.r.t. a los parámetros.\n",
        "\n",
        "    Parametros\n",
        "    ----------\n",
        "    theta : array_like\n",
        "        Parámetro theta de la regresión logística. Vector de la forma (n, ). n es el número de características\n",
        "        incluida la intercepción.\n",
        "\n",
        "    X : array_like\n",
        "        Dataset con la forma (m x n). m es el número de ejemplos, y n es el número de\n",
        "        características (incluida la intercepción).\n",
        "\n",
        "    y : array_like\n",
        "        El conjunto de etiquetas. Un vector con la forma (m, ). m es el número de ejemplos.\n",
        "\n",
        "    lambda_ : float\n",
        "        Parámetro de regularización.\n",
        "\n",
        "    Devuelve\n",
        "    -------\n",
        "    J : float\n",
        "        El valor calculado para la función de costo regularizada.\n",
        "\n",
        "    grad : array_like\n",
        "        Un vector de la forma (n, ) que es el gradiente de la\n",
        "        función de costo con respecto a theta, en los valores actuales de theta.\n",
        "    \"\"\"\n",
        "    # Inicializa algunos valores útiles\n",
        "    m = y.size\n",
        "\n",
        "    # Calcula la hipótesis de la regresión logística\n",
        "    h = sigmoid(X.dot(theta))\n",
        "\n",
        "    # Calcula el costo sin regularización\n",
        "    J = (1 / m) * np.sum(-y.dot(np.log(h)) - (1 - y).dot(np.log(1 - h)))\n",
        "\n",
        "    # Calcula el término de regularización\n",
        "    reg_term = (lambda_ / (2 * m)) * np.sum(theta[1:]**2)\n",
        "\n",
        "    # Agrega el término de regularización al costo\n",
        "    J += reg_term\n",
        "\n",
        "    # Calcula el gradiente sin regularización\n",
        "    grad = (1 / m) * X.T.dot(h - y)\n",
        "\n",
        "    # Calcula el gradiente de la regularización\n",
        "    grad[1:] += (lambda_ / m) * theta[1:]\n",
        "\n",
        "    return J, grad\n",
        "\n",
        "# Definir la función sigmoide\n",
        "def sigmoid(z):\n",
        "    return 1 / (1 + np.exp(-z))\n"
      ],
      "metadata": {
        "id": "TrHXBzAKwqHp"
      },
      "execution_count": 49,
      "outputs": []
    },
    {
      "cell_type": "markdown",
      "metadata": {
        "id": "eJyLWCXrSxgN"
      },
      "source": [
        "#### 1.3.3 Vectorización regularizada de la regresión logística\n",
        "\n",
        "Una vez implementada la vectorización para la regresión logística, corresponde agregarar regularización a la función de costo.\n",
        "\n"
      ]
    },
    {
      "cell_type": "markdown",
      "metadata": {
        "id": "Rlk-Z2p-SxgN"
      },
      "source": [
        "<a id=\"section2\"></a>\n",
        "### 1.4 Clasificacion One-vs-all\n",
        "En esta parte del ejercicio, se implementará la clasificación de uno contra todos mediante el entrenamiento de múltiples clasificadores de regresión logística regularizados, uno para cada una de las clases en nuestro conjunto de datos."
      ]
    },
    {
      "cell_type": "code",
      "source": [
        "import numpy as np\n",
        "from scipy import optimize\n",
        "\n",
        "def oneVsAll(X, y, num_labels, lambda_):\n",
        "    \"\"\"\n",
        "    Entrena clasificadores de regresión logística uno contra todos y devuelve\n",
        "    cada uno de estos clasificadores en una matriz all_theta, donde la fila i-ésima\n",
        "    de all_theta corresponde al clasificador para la etiqueta i.\n",
        "\n",
        "    Parámetros\n",
        "    ----------\n",
        "    X : array_like\n",
        "        El conjunto de datos de entrada con forma (m x n). m es el número de\n",
        "        puntos de datos, y n es el número de características. No asumimos\n",
        "        que el término de intercepción (o sesgo) esté en X, sin embargo,\n",
        "        proporcionamos el código a continuación para agregar el término de sesgo a X.\n",
        "\n",
        "    y : array_like\n",
        "        Las etiquetas de los datos. Un vector de forma (m, ).\n",
        "\n",
        "    num_labels : int\n",
        "        Número de etiquetas posibles.\n",
        "\n",
        "    lambda_ : float\n",
        "        Parámetro de regularización para la regresión logística.\n",
        "\n",
        "    Retorna\n",
        "    -------\n",
        "    all_theta : array_like\n",
        "        Los parámetros entrenados para la regresión logística para cada clase.\n",
        "        Esta es una matriz de forma (K x n+1) donde K es el número de clases\n",
        "        (es decir, `num_labels`) y n es el número de características sin el sesgo.\n",
        "    \"\"\"\n",
        "    # Algunas variables útiles\n",
        "    m, n = X.shape\n",
        "\n",
        "    all_theta = np.zeros((num_labels, n + 1))\n",
        "\n",
        "    # Agrega unos a la matriz X\n",
        "    X = np.concatenate([np.ones((m, 1)), X], axis=1)\n",
        "\n",
        "    for c in np.arange(num_labels):\n",
        "        initial_theta = np.zeros(n + 1)\n",
        "        options = {'maxiter': 50}\n",
        "        res = optimize.minimize(lrCostFunction,\n",
        "                                initial_theta,\n",
        "                                (X, (y == c), lambda_),\n",
        "                                jac=True,\n",
        "                                method='CG',\n",
        "                                options=options)\n",
        "\n",
        "        all_theta[c] = res.x\n",
        "\n",
        "    return all_theta\n"
      ],
      "metadata": {
        "id": "o1FftUg_xAWh"
      },
      "execution_count": 50,
      "outputs": []
    },
    {
      "cell_type": "code",
      "source": [
        "lambda_ = 0.1\n",
        "all_theta = oneVsAll(X, y, num_labels, lambda_)\n",
        "print(all_theta.shape)"
      ],
      "metadata": {
        "colab": {
          "base_uri": "https://localhost:8080/"
        },
        "id": "0CaJZtViXLru",
        "outputId": "b40e0cd2-a7e9-49e8-e824-af88260ae30c"
      },
      "execution_count": 57,
      "outputs": [
        {
          "output_type": "stream",
          "name": "stdout",
          "text": [
            "(10, 16)\n"
          ]
        }
      ]
    },
    {
      "cell_type": "code",
      "source": [
        "#Mi codigo con mis datos\n",
        "lambda_ = 0.1\n",
        "all_theta = oneVsAll(X_train, y_train, num_labels, lambda_)\n",
        "print(all_theta.shape)\n"
      ],
      "metadata": {
        "colab": {
          "base_uri": "https://localhost:8080/"
        },
        "id": "yKPo0EK5xhUi",
        "outputId": "f17f4625-47fe-40f5-9dc1-41a2b70e8881"
      },
      "execution_count": 51,
      "outputs": [
        {
          "output_type": "stream",
          "name": "stdout",
          "text": [
            "(10, 15)\n"
          ]
        }
      ]
    },
    {
      "cell_type": "code",
      "source": [
        "print(all_theta)"
      ],
      "metadata": {
        "colab": {
          "base_uri": "https://localhost:8080/"
        },
        "id": "V1EfKaiEgtcw",
        "outputId": "18f0deef-ce78-4bb2-cc73-11b7dc9083f7"
      },
      "execution_count": 52,
      "outputs": [
        {
          "output_type": "stream",
          "name": "stdout",
          "text": [
            "[[0. 0. 0. 0. 0. 0. 0. 0. 0. 0. 0. 0. 0. 0. 0.]\n",
            " [0. 0. 0. 0. 0. 0. 0. 0. 0. 0. 0. 0. 0. 0. 0.]\n",
            " [0. 0. 0. 0. 0. 0. 0. 0. 0. 0. 0. 0. 0. 0. 0.]\n",
            " [0. 0. 0. 0. 0. 0. 0. 0. 0. 0. 0. 0. 0. 0. 0.]\n",
            " [0. 0. 0. 0. 0. 0. 0. 0. 0. 0. 0. 0. 0. 0. 0.]\n",
            " [0. 0. 0. 0. 0. 0. 0. 0. 0. 0. 0. 0. 0. 0. 0.]\n",
            " [0. 0. 0. 0. 0. 0. 0. 0. 0. 0. 0. 0. 0. 0. 0.]\n",
            " [0. 0. 0. 0. 0. 0. 0. 0. 0. 0. 0. 0. 0. 0. 0.]\n",
            " [0. 0. 0. 0. 0. 0. 0. 0. 0. 0. 0. 0. 0. 0. 0.]\n",
            " [0. 0. 0. 0. 0. 0. 0. 0. 0. 0. 0. 0. 0. 0. 0.]]\n"
          ]
        }
      ]
    },
    {
      "cell_type": "markdown",
      "metadata": {
        "id": "aQLqvbc_SxgO"
      },
      "source": [
        "<a id=\"section3\"></a>\n",
        "#### 1.4.1 Prediccion One-vs-all\n",
        "\n",
        "Después de entrenar el clasificador de one-vs-all, se puede usarlo para predecir el dígito contenido en una imagen determinada. Para cada entrada, debe calcular la \"probabilidad\" de que pertenezca a cada clase utilizando los clasificadores de regresión logística entrenados. La función de predicción one-vs-all seleccionará la clase para la cual el clasificador de regresión logística correspondiente genera la probabilidad más alta y devolverá la etiqueta de clase (0, 1, ..., K-1) como la predicción para el ejemplo de entrada."
      ]
    },
    {
      "cell_type": "code",
      "source": [
        "import numpy as np\n",
        "\n",
        "def predictOneVsAll(all_theta, X):\n",
        "    \"\"\"\n",
        "    Devuelve un vector de predicciones para cada ejemplo en la matriz X.\n",
        "    Tenga en cuenta que X contiene los ejemplos en filas.\n",
        "    all_theta es una matriz donde la i-ésima fila es un vector theta de regresión logística entrenada para la i-ésima clase.\n",
        "    Debe establecer p en un vector de valores de 0..K-1 (por ejemplo, p = [0, 2, 0, 1]\n",
        "    predice clases 0, 2, 0, 1 para 4 ejemplos).\n",
        "\n",
        "    Parametros\n",
        "    ----------\n",
        "    all_theta : array_like\n",
        "        The trained parameters for logistic regression for each class.\n",
        "        This is a matrix of shape (K x n+1) where K is number of classes\n",
        "        and n is number of features without the bias.\n",
        "\n",
        "    X : array_like\n",
        "        Data points to predict their labels. This is a matrix of shape\n",
        "        (m x n) where m is number of data points to predict, and n is number\n",
        "        of features without the bias term. Note we add the bias term for X in\n",
        "        this function.\n",
        "\n",
        "    Devuelve\n",
        "    -------\n",
        "    p : array_like\n",
        "        The predictions for each data point in X. This is a vector of shape (m, ).\n",
        "    \"\"\"\n",
        "\n",
        "    m = X.shape[0]\n",
        "    num_labels = all_theta.shape[0]\n",
        "\n",
        "    p = np.zeros(m)\n",
        "\n",
        "    # Agrega unos a la matriz X\n",
        "    X = np.concatenate([np.ones((m, 1)), X], axis=1)\n",
        "    p = np.argmax(sigmoid(X.dot(all_theta.T)), axis=1)\n",
        "\n",
        "    return p\n"
      ],
      "metadata": {
        "id": "55aytKODyXFG"
      },
      "execution_count": 53,
      "outputs": []
    },
    {
      "cell_type": "markdown",
      "metadata": {
        "id": "zo3aawvsSxgO"
      },
      "source": [
        "Una vez que haya terminado, se llama a la función `predictOneVsAll` usando el valor aprendido de $\\theta$. Debería apreciarse que la precisión del conjunto de entrenamiento es de aproximadamente 95,1% (es decir, clasifica correctamente el 95,1% de los ejemplos del conjunto de entrenamiento)."
      ]
    },
    {
      "cell_type": "code",
      "execution_count": 58,
      "metadata": {
        "id": "mE7v5cglSxgO",
        "colab": {
          "base_uri": "https://localhost:8080/"
        },
        "outputId": "7dfacbf6-148a-459e-ddba-dd105c103df8"
      },
      "outputs": [
        {
          "output_type": "stream",
          "name": "stdout",
          "text": [
            "(17992, 15)\n",
            "Precision del conjuto de entrenamiento: 30.94%\n",
            "(140, 15)\n",
            "(140, 16)\n",
            "[0 0 0 0 0 0 0 0 0 0 0 0 0 0 0 0 0 0 0 0 0 0 0 0 0 0 0 0 0 0 0 0 0 0 0 0 0\n",
            " 0 0 0 0 0 0 0 0 0 0 0 0 0 0 0 0 0 0 0 0 0 0 0 0 0 0 0 0 0 0 0 0 0 0 0 0 0\n",
            " 0 0 0 0 0 0 0 0 0 0 0 0 0 0 0 0 0 0 0 0 0 0 0 0 0 0 0 0 0 0 0 0 0 0 0 0 0\n",
            " 0 0 0 0 0 0 0 0 0 0 0 0 0 0 0 0 0 0 0 0 0 0 0 0 0 0 0 0 0]\n",
            "10     0.0\n",
            "11     9.0\n",
            "12     7.0\n",
            "13     0.0\n",
            "14     2.0\n",
            "      ... \n",
            "145    0.0\n",
            "146    0.0\n",
            "147    8.0\n",
            "148    9.0\n",
            "149    0.0\n",
            "Name: 5, Length: 140, dtype: float64\n"
          ]
        }
      ],
      "source": [
        "print(X.shape)\n",
        "pred = predictOneVsAll(all_theta, X)\n",
        "print('Precision del conjuto de entrenamiento: {:.2f}%'.format(np.mean(pred == y) * 100))\n",
        "XPrueba = X[10:150, :].copy()\n",
        "print(XPrueba.shape)\n",
        "#print(np.ones((1)))\n",
        "#print(XPrueba)\n",
        "#p = np.zeros(1)\n",
        "XPrueba = np.concatenate([np.ones((140, 1)), XPrueba], axis=1)\n",
        "print(XPrueba.shape)\n",
        "p = np.argmax(sigmoid(XPrueba.dot(all_theta.T)), axis = 1)\n",
        "print(p)\n",
        "\n",
        "# displayData(X[1002:1003, :])\n",
        "print(y[10:150])"
      ]
    }
  ],
  "metadata": {
    "kernelspec": {
      "display_name": "Python 3",
      "language": "python",
      "name": "python3"
    },
    "language_info": {
      "codemirror_mode": {
        "name": "ipython",
        "version": 3
      },
      "file_extension": ".py",
      "mimetype": "text/x-python",
      "name": "python",
      "nbconvert_exporter": "python",
      "pygments_lexer": "ipython3",
      "version": "3.8.5"
    },
    "colab": {
      "provenance": [],
      "include_colab_link": true
    }
  },
  "nbformat": 4,
  "nbformat_minor": 0
}