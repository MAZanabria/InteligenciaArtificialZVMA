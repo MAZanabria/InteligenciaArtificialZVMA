{
  "nbformat": 4,
  "nbformat_minor": 0,
  "metadata": {
    "colab": {
      "provenance": [],
      "authorship_tag": "ABX9TyPvqBvbqnMMKVzUXwAVP45E",
      "include_colab_link": true
    },
    "kernelspec": {
      "name": "python3",
      "display_name": "Python 3"
    },
    "language_info": {
      "name": "python"
    }
  },
  "cells": [
    {
      "cell_type": "markdown",
      "metadata": {
        "id": "view-in-github",
        "colab_type": "text"
      },
      "source": [
        "<a href=\"https://colab.research.google.com/github/MAZanabria/InteligenciaArtificialZVMA/blob/pacman/Lab2.ipynb\" target=\"_parent\"><img src=\"https://colab.research.google.com/assets/colab-badge.svg\" alt=\"Open In Colab\"/></a>"
      ]
    },
    {
      "cell_type": "markdown",
      "source": [
        "Laboratorio 2\n",
        "\n",
        "Nombre: Zanabria Vega Maria Alejandra"
      ],
      "metadata": {
        "id": "u2cpXcehtzre"
      }
    },
    {
      "cell_type": "markdown",
      "source": [
        "Regresion Logistica\n",
        "\n",
        "tema: Riesgos de la obesidad\n",
        "\n",
        "La salida es BMI establecemos un umbral para definir que valores de BMI representan \"obesidad\" y cuales no. Por ejemplo consideramos que BMI por encima de 30 indica obesidad (1) y cualquier otro valor como no obesidad (0).\n",
        "\n",
        "Entradas (variables independientes): Son las características que se utilizan para predecir la variable objetivo. En el conjunto de datos, las entradas como Gender, family_history_with_overweight, FAVC, CAEC, SMOKE, SCC, CALC, MTRANS, Age, FCVC, NCP, CH2O, FAF, y TUE.\n",
        "\n",
        "Salida (variable dependiente): Es la variable que estamos tratando de predecir. La salida parece ser el BMI (Body Mass Index), que es el índice de masa corporal de una persona.\n"
      ],
      "metadata": {
        "id": "ycR1_C5LU1rr"
      }
    },
    {
      "cell_type": "code",
      "execution_count": 2,
      "metadata": {
        "colab": {
          "base_uri": "https://localhost:8080/"
        },
        "id": "xKSreHj4SoUY",
        "outputId": "f8d3b5a8-60e2-4d15-c2b4-8ad0da3353a6"
      },
      "outputs": [
        {
          "output_type": "stream",
          "name": "stdout",
          "text": [
            "Mounted at /content/drive\n"
          ]
        }
      ],
      "source": [
        "from google.colab import drive\n",
        "drive.mount('/content/drive')"
      ]
    },
    {
      "cell_type": "code",
      "source": [
        "import os\n",
        "import numpy as np\n",
        "from matplotlib import pyplot\n",
        "from scipy import optimize\n",
        "%matplotlib inline"
      ],
      "metadata": {
        "id": "ZhqlB5rqZ0S_"
      },
      "execution_count": null,
      "outputs": []
    },
    {
      "cell_type": "markdown",
      "source": [
        "Regresion Logistica:\n",
        "En esta parte del ejercicio, creara un modelo de regresion logistica para predecir si una persona esta en riesgo de obecidad.\n"
      ],
      "metadata": {
        "id": "_fSrLZaiSys5"
      }
    },
    {
      "cell_type": "code",
      "source": [
        "import pandas as pd\n",
        "\n",
        "# Cargar datos desde un archivo Excel\n",
        "data = pd.read_excel('/content/drive/MyDrive/sis 420/laboratorio 2/dataset/datos.xlsx')\n",
        "\n",
        "# Convertir el DataFrame de pandas a una matriz NumPy\n",
        "data_array = data.values\n",
        "\n",
        "# Separar las características (X) de la variable de destino (y)\n",
        "X_train, y_train = data_array[:16000, 0:16], data_array[:16000, 16]\n",
        "X_test, y_test = data_array[4000:, 0:16], data_array[4000:, 16]\n",
        "\n",
        "# Para imprimir los datos\n",
        "print(\"Conjunto de entrenamiento - Características:\")\n",
        "print(X_train)\n",
        "print(\"Conjunto de entrenamiento - Etiquetas:\")\n",
        "print(y_train)\n",
        "\n"
      ],
      "metadata": {
        "id": "2sPila8mSF5Z",
        "colab": {
          "base_uri": "https://localhost:8080/"
        },
        "outputId": "0912fd62-0f65-4dae-b5bc-4a6f4520ec9e"
      },
      "execution_count": 31,
      "outputs": [
        {
          "output_type": "stream",
          "name": "stdout",
          "text": [
            "Conjunto de entrenamiento - Características:\n",
            "[[0.00000000e+00 0.00000000e+00 1.00000000e+00 ... 6.66666667e-01\n",
            "  5.00000000e-01 0.00000000e+00]\n",
            " [1.00000000e+00 0.00000000e+00 1.00000000e+00 ... 6.66666667e-01\n",
            "  1.00000000e+00 1.00000000e+00]\n",
            " [2.00000000e+00 1.00000000e+00 1.00000000e+00 ... 6.66666667e-01\n",
            "  5.00000000e-01 6.66666667e-01]\n",
            " ...\n",
            " [1.59970000e+04 0.00000000e+00 0.00000000e+00 ... 6.66666667e-01\n",
            "  2.86350000e-03 2.74780000e-01]\n",
            " [1.59980000e+04 1.00000000e+00 0.00000000e+00 ... 6.66666667e-01\n",
            "  7.32975000e-02 3.33333333e-01]\n",
            " [1.59990000e+04 0.00000000e+00 1.00000000e+00 ... 6.66666667e-01\n",
            "  7.18048500e-01 4.81460667e-01]]\n",
            "Conjunto de entrenamiento - Etiquetas:\n",
            "[0.5       0.        0.5       ... 0.5       0.        0.4632825]\n"
          ]
        }
      ]
    },
    {
      "cell_type": "markdown",
      "source": [
        "visualizar datos:\n",
        "Antes de comenzar a implementar cualquier algoritmo de aprendizaje. Mostramos los datos en una grafica bidimencional llamando a la funcion plotData."
      ],
      "metadata": {
        "id": "99NXbgqyWcQ8"
      }
    },
    {
      "cell_type": "code",
      "source": [
        "import matplotlib.pyplot as plt\n",
        "\n",
        "def plotData(X, y):\n",
        "    # Gráfica los puntos de datos X y y en una nueva figura. Grafica los puntos de datos con * para los positivos y\n",
        "    # o para los negativos.\n",
        "\n",
        "    # Crea una nueva figura\n",
        "    fig = plt.figure()\n",
        "\n",
        "    # Encuentra Indices de Ejemplos Positivos y Negativos\n",
        "    pos = y == 1\n",
        "    neg = y == 0\n",
        "\n",
        "    # Grafica Ejemplos\n",
        "    plt.plot(X[pos, 0], X[pos, 1], 'k*', markersize=10, label='Positivo')\n",
        "    plt.plot(X[neg, 0], X[neg, 1], 'ko', markersize=8, markerfacecolor='yellow', markeredgewidth=1, markeredgecolor='black', label='Negativo')\n",
        "\n",
        "    # Ajustes de la gráfica\n",
        "    plt.xlabel('Característica 1')\n",
        "    plt.ylabel('Característica 2')\n",
        "    plt.legend()\n",
        "    plt.title('Gráfica de Datos')\n",
        "\n",
        "    # Mostrar la gráfica\n",
        "    plt.show()\n"
      ],
      "metadata": {
        "id": "hccLdTalMwB8"
      },
      "execution_count": null,
      "outputs": []
    },
    {
      "cell_type": "markdown",
      "source": [
        "se llama a la funcion implementada para mostrar los datos cargados:\n"
      ],
      "metadata": {
        "id": "lkMJWDjdQGqc"
      }
    },
    {
      "cell_type": "code",
      "source": [
        "import matplotlib.pyplot as plt\n",
        "\n",
        "def plotData(X, y):\n",
        "    # Gráfica los puntos de datos X y y\n",
        "    plt.scatter(X[y==1, 0], X[y==1, 1], marker='o', label='obesidad')\n",
        "    plt.scatter(X[y==0, 0], X[y==0, 1], marker='x', label='No obesidad')\n",
        "\n",
        "    # Añade etiquetas para los ejes\n",
        "    plt.xlabel('Gender','family_with_overweigth','FAVC','CAEC','SMOKE','SCC','CALC','MTRANS','Age','Height','weight','FCV','NPC')\n",
        "    plt.ylabel('BMI')\n",
        "\n",
        "    # Añade una leyenda\n",
        "    plt.legend()\n",
        "\n",
        "    # Muestra la gráfica\n",
        "    plt.show()\n"
      ],
      "metadata": {
        "id": "9w0Ut9OcQOv8"
      },
      "execution_count": 32,
      "outputs": []
    },
    {
      "cell_type": "markdown",
      "source": [
        "funcion sigmoidea:"
      ],
      "metadata": {
        "id": "_ZNhZ8wRRKgN"
      }
    },
    {
      "cell_type": "code",
      "source": [
        "import numpy as np\n",
        "\n",
        "def sigmoid(z):\n",
        "    # Calcula la sigmoide de una entrada z\n",
        "    return 1 / (1 + np.exp(-z))\n",
        "# Aquí theta se inicializa con valores aleatorios para este ejemplo\n",
        "theta = np.random.randn(17)\n",
        "\n",
        "# Generar datos de ejemplo para X\n",
        "# Aquí simplemente generamos datos aleatorios para X para mostrar el concepto\n",
        "num_datos = 200000\n",
        "num_caracteristicas = 17\n",
        "X = np.random.randn(num_datos, num_caracteristicas)\n",
        "\n",
        "# Calcula el producto punto entre X y theta\n",
        "z = np.dot(X, theta)\n",
        "\n",
        "# Calcula las salidas sigmoides\n",
        "salida_sigmoid = sigmoid(z)\n",
        "\n",
        "# Imprime las salidas sigmoides\n",
        "print(salida_sigmoid)\n",
        "\n",
        "\n"
      ],
      "metadata": {
        "id": "IOigU0jJQQCO",
        "colab": {
          "base_uri": "https://localhost:8080/"
        },
        "outputId": "6a056e75-5694-4ad1-9a11-7924345badfc"
      },
      "execution_count": 34,
      "outputs": [
        {
          "output_type": "stream",
          "name": "stdout",
          "text": [
            "[1.77910130e-01 4.05431005e-02 7.12369643e-01 ... 4.40923678e-06\n",
            " 6.01108518e-02 3.11978090e-01]\n"
          ]
        }
      ]
    },
    {
      "cell_type": "code",
      "source": [
        "def  featureNormalize(X):\n",
        "    X_norm = X.copy()\n",
        "    mu = np.zeros(X.shape[1])\n",
        "    sigma = np.zeros(X.shape[1])\n",
        "\n",
        "    mu = np.mean(X, axis = 0)\n",
        "    sigma = np.std(X, axis = 0)\n",
        "    X_norm = (X - mu) / sigma\n",
        "\n",
        "    return X_norm, mu, sigma"
      ],
      "metadata": {
        "id": "d1m5p_1X7PAv"
      },
      "execution_count": 10,
      "outputs": []
    },
    {
      "cell_type": "code",
      "source": [
        "# llama featureNormalize con los datos cargados\n",
        "X_norm, mu, sigma = featureNormalize(X)"
      ],
      "metadata": {
        "id": "Ap8KoJFe7ZtC"
      },
      "execution_count": 11,
      "outputs": []
    },
    {
      "cell_type": "markdown",
      "source": [
        "funcion de costo y gradiente"
      ],
      "metadata": {
        "id": "OocnyTNSGhKY"
      }
    },
    {
      "cell_type": "code",
      "source": [
        "# Configurar la matriz adecuadamente, y agregar una columna de unos que corresponde al termino de intercepción.\n",
        "m, n = X.shape\n",
        "# Agraga el termino de intercepción a A\n",
        "X = np.concatenate([np.ones((m, 1)), X_norm], axis=1)\n",
        "# X = np.concatenate([np.ones((m, 1)), X], axis=1)"
      ],
      "metadata": {
        "id": "vEhlTUKRa8xB"
      },
      "execution_count": 12,
      "outputs": []
    },
    {
      "cell_type": "markdown",
      "source": [
        "funcion de costo"
      ],
      "metadata": {
        "id": "-xBBscU-bcUb"
      }
    },
    {
      "cell_type": "code",
      "source": [
        "def calcularCosto(theta, X, y):\n",
        "    # Inicializar algunos valores utiles\n",
        "    m = y.size  # numero de ejemplos de entrenamiento\n",
        "\n",
        "    J = 0\n",
        "    h = sigmoid(X.dot(theta.T))\n",
        "    J = (1 / m) * np.sum(-y.dot(np.log(h)) - (1 - y).dot(np.log(1 - h)))\n",
        "\n",
        "    return J"
      ],
      "metadata": {
        "id": "280Of-xPbTzP"
      },
      "execution_count": 13,
      "outputs": []
    },
    {
      "cell_type": "markdown",
      "source": [
        "desecenso por el gradiente"
      ],
      "metadata": {
        "id": "JUs_Wn7Ybfdh"
      }
    },
    {
      "cell_type": "code",
      "source": [
        "def descensoGradiente(theta, X, y, alpha, num_iters):\n",
        "    # Inicializa algunos valores\n",
        "    m = y.shape[0] # numero de ejemplos de entrenamiento\n",
        "\n",
        "    # realiza una copia de theta, el cual será acutalizada por el descenso por el gradiente\n",
        "    theta = theta.copy()\n",
        "    J_history = []\n",
        "\n",
        "    for i in range(num_iters):\n",
        "        h = sigmoid(X.dot(theta.T))\n",
        "        theta = theta - (alpha / m) * (h - y).dot(X)\n",
        "\n",
        "        J_history.append(calcularCosto(theta, X, y))\n",
        "    return theta, J_history"
      ],
      "metadata": {
        "id": "H0UZOzCobaCp"
      },
      "execution_count": 19,
      "outputs": []
    },
    {
      "cell_type": "code",
      "source": [
        "import numpy as np\n",
        "import matplotlib.pyplot as plt\n",
        "\n",
        "# generar datos de entrenamiento\n",
        "num_datos = 16000\n",
        "num_caracteristicas = 17\n",
        "# Generar valores aleatorios para las características\n",
        "X = np.random.randn(num_datos, num_caracteristicas)\n",
        "\n",
        "# Agregar una columna de unos a X para representar el término de intercepción\n",
        "X = np.concatenate((np.ones((num_datos, 1)), X), axis=1)\n",
        "\n",
        "# Definir la columna de BMI (índice 16) como binaria basada en la condición de obesidad\n",
        "BMI = X[:, 16]  # Supongamos que el índice 16 representa la columna de BMI en X\n",
        "y = (BMI > 30).astype(int)  # Si BMI > 30, asigna 1 (obesidad), de lo contrario, asigna 0 (no obesidad)\n",
        "\n",
        "# Elegir algun valor para alpha (probar varias alternativas)\n",
        "alpha = 0.01\n",
        "num_iters = 20000\n",
        "\n",
        "# inicializa theta y ejecuta el descenso por el gradiente\n",
        "theta = np.zeros(num_caracteristicas + 1)  # Corregir la inicialización de theta\n",
        "theta, J_history = descensoGradiente(theta, X, y, alpha, num_iters)\n",
        "\n",
        "# Grafica la convergencia del costo\n",
        "plt.plot(np.arange(len(J_history)), J_history, lw=2)\n",
        "plt.xlabel('Numero de iteraciones')\n",
        "plt.ylabel('Costo J')\n",
        "plt.show()\n",
        "\n",
        "# Muestra los resultados del descenso por el gradiente\n",
        "print('theta calculado por el descenso por el gradiente:', theta)\n",
        "\n"
      ],
      "metadata": {
        "id": "XvIef2mAbqMF",
        "colab": {
          "base_uri": "https://localhost:8080/",
          "height": 556
        },
        "outputId": "743b454d-1de0-415d-ef28-ed300ef895db"
      },
      "execution_count": 30,
      "outputs": [
        {
          "output_type": "display_data",
          "data": {
            "text/plain": [
              "<Figure size 640x480 with 1 Axes>"
            ],
            "image/png": "[encoded data removed]"
          },
          "metadata": {}
        },
        {
          "output_type": "stream",
          "name": "stdout",
          "text": [
            "theta calculado por el descenso por el gradiente: [-5.27644900e+00  1.13537611e-02 -8.60665962e-04  3.20017263e-03\n",
            "  4.37745891e-03 -2.40921268e-03  4.83900325e-03  1.53160413e-02\n",
            " -4.32436014e-03  8.01962497e-03  6.10879727e-03 -9.20626148e-03\n",
            "  1.78019597e-03 -1.57541138e-03 -6.32949599e-03  8.21175134e-03\n",
            "  3.03157229e-03  7.61576415e-04]\n"
          ]
        }
      ]
    },
    {
      "cell_type": "code",
      "source": [
        "# Calcular la media y la desviación estándar utilizando los datos de entrenamiento\n",
        "mu_train = np.mean(X_train, axis=0)\n",
        "sigma_train = np.std(X_train, axis=0)\n",
        "\n",
        "# Normalizar los datos de prueba utilizando la media y la desviación estándar de los datos de entrenamiento\n",
        "X_test_norm = (X_test - mu_train) / sigma_train\n",
        "\n",
        "#  Agrega una columna de unos al principio de la matriz de características normalizada\n",
        "m_test, _ = X_test_norm.shape\n",
        "X_test_norm = np.concatenate([np.ones((m_test, 1)), X_test_norm], axis=1)\n",
        "\n",
        "# Calcula la probabilidad de riesgo de obesidad\n",
        "probabilidad_obesidad = sigmoid(np.dot(X_test_norm, theta))\n",
        "\n",
        "# Imprime la probabilidad calculada de riesgo de obesidad para los datos de prueba\n",
        "print(probabilidad_obesidad)\n"
      ],
      "metadata": {
        "colab": {
          "base_uri": "https://localhost:8080/"
        },
        "id": "67AunJgkpKvp",
        "outputId": "8783aa00-8219-49ca-e312-fb819b85210d"
      },
      "execution_count": 37,
      "outputs": [
        {
          "output_type": "stream",
          "name": "stdout",
          "text": [
            "[0.28861892 0.51432465 0.98685208 ... 0.03174872 0.97872774 0.00124734]\n"
          ]
        }
      ]
    }
  ]
}